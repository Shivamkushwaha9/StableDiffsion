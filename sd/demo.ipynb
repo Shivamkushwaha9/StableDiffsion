{
 "cells": [
  {
   "cell_type": "code",
   "execution_count": null,
   "metadata": {},
   "outputs": [],
   "source": [
    "\n",
    "import model_loader\n",
    "import pipeline\n",
    "from PIL import Image\n",
    "from pathlib import Path\n",
    "from transformers import CLIPTokenizer\n",
    "import torch\n",
    "\n",
    "DEVICE = \"cpu\"\n",
    "\n",
    "ALLOW_CUDA = True\n",
    "ALLOW_MPS = False\n",
    "\n",
    "if torch.cuda.is_available() and ALLOW_CUDA:\n",
    "    DEVICE = \"cuda\"\n",
    "elif (torch.has_mps or torch.backends.mps.is_available()) and ALLOW_MPS:\n",
    "    DEVICE = \"mps\"\n",
    "print(f\"Using device: {DEVICE}\")\n",
    "\n",
    "tokenizer = CLIPTokenizer(\"../data/tokenizer_vocab.json\", merges_file=\"../data/tokenizer_merges.txt\")\n",
    "model_file = \"../data/v1-5-pruned-emaonly.ckpt\"\n",
    "models = model_loader.preload_models_from_standard_weights(model_file, DEVICE)\n",
    "\n",
    "## TEXT TO IMAGE\n",
    "\n",
    "# prompt = \"A dog with sunglasses, wearing comfy hat, looking at camera, highly detailed, ultra sharp, cinematic, 100mm lens, 8k resolution.\"\n",
    "prompt = \"A cute girl\"\n",
    "uncond_prompt = \"\"  # Also known as negative prompt\n",
    "do_cfg = True\n",
    "cfg_scale = 8  # min: 1, max: 14\n",
    "\n",
    "## IMAGE TO IMAGE\n",
    "\n",
    "input_image = None\n",
    "# Comment to disable image to image\n",
    "image_path = \"../images/dog.jpg\"\n",
    "# input_image = Image.open(image_path)\n",
    "# Higher values means more noise will be added to the input image, so the result will further from the input image.\n",
    "# Lower values means less noise is added to the input image, so output will be closer to the input image.\n",
    "strength = 0.9\n",
    "\n",
    "## SAMPLER\n",
    "\n",
    "sampler = \"ddpm\"\n",
    "num_inference_steps = 50\n",
    "seed = 42\n",
    "\n",
    "output_image = pipeline.generate(\n",
    "    prompt=prompt,\n",
    "    uncond_prompt=uncond_prompt,\n",
    "    input_image=input_image,\n",
    "    strength=strength,\n",
    "    do_cfg=do_cfg,\n",
    "    cfg_scale=cfg_scale,\n",
    "    sampler_name=sampler,\n",
    "    n_inference_steps=num_inference_steps,\n",
    "    seed=seed,\n",
    "    models=models,\n",
    "    device=DEVICE,\n",
    "    idle_device=\"cpu\",\n",
    "    tokenizer=tokenizer,\n",
    ")\n",
    "\n",
    "# Combine the input image and the output image into a single image.\n",
    "\n",
    "Image.fromarray(output_image)"
   ]
  },
  {
   "cell_type": "code",
   "execution_count": 1,
   "metadata": {},
   "outputs": [
    {
     "name": "stderr",
     "output_type": "stream",
     "text": [
      "c:\\Users\\SHIVAM\\Chat-Bot\\Lib\\site-packages\\tqdm\\auto.py:21: TqdmWarning: IProgress not found. Please update jupyter and ipywidgets. See https://ipywidgets.readthedocs.io/en/stable/user_install.html\n",
      "  from .autonotebook import tqdm as notebook_tqdm\n",
      "C:\\Users\\SHIVAM\\AppData\\Local\\Temp\\ipykernel_15596\\102735157.py:15: UserWarning: 'has_mps' is deprecated, please use 'torch.backends.mps.is_built()'\n",
      "  elif (torch.has_mps or torch.backends.mps.is_available()) and ALLOW_MPS:\n"
     ]
    },
    {
     "name": "stdout",
     "output_type": "stream",
     "text": [
      "Using device: cpu\n"
     ]
    },
    {
     "ename": "RuntimeError",
     "evalue": "Error(s) in loading state_dict for VAE_Encoder:\n\tMissing key(s) in state_dict: \"2.weight\", \"2.bias\", \"3.groupnorm_1.weight\", \"3.groupnorm_1.bias\", \"3.conv_1.weight\", \"3.conv_1.bias\", \"3.groupnorm_2.weight\", \"3.groupnorm_2.bias\", \"3.conv_2.weight\", \"3.conv_2.bias\", \"4.weight\", \"4.bias\", \"7.groupnorm.weight\", \"7.groupnorm.bias\", \"7.attention.in_proj.weight\", \"7.attention.in_proj.bias\", \"7.attention.out_proj.weight\", \"7.attention.out_proj.bias\", \"8.weight\", \"8.bias\", \"10.weight\", \"10.bias\", \"11.weight\", \"11.bias\". \n\tUnexpected key(s) in state_dict: \"12.groupnorm_1.weight\", \"12.groupnorm_1.bias\", \"12.conv_1.weight\", \"12.conv_1.bias\", \"12.groupnorm_2.weight\", \"12.groupnorm_2.bias\", \"12.conv_2.weight\", \"12.conv_2.bias\", \"13.groupnorm.weight\", \"13.groupnorm.bias\", \"13.attention.out_proj.bias\", \"14.groupnorm_1.weight\", \"14.groupnorm_1.bias\", \"14.conv_1.weight\", \"14.conv_1.bias\", \"14.groupnorm_2.weight\", \"14.groupnorm_2.bias\", \"14.conv_2.weight\", \"14.conv_2.bias\", \"15.weight\", \"15.bias\", \"17.weight\", \"17.bias\", \"18.weight\", \"18.bias\", \"13.attention.in_proj.weight\", \"13.attention.in_proj.bias\", \"13.attention.out_proj.weight\", \"2.groupnorm_1.weight\", \"2.groupnorm_1.bias\", \"2.conv_1.weight\", \"2.conv_1.bias\", \"2.groupnorm_2.weight\", \"2.groupnorm_2.bias\", \"2.conv_2.weight\", \"2.conv_2.bias\", \"3.weight\", \"3.bias\", \"4.groupnorm_1.weight\", \"4.groupnorm_1.bias\", \"4.conv_1.weight\", \"4.conv_1.bias\", \"4.groupnorm_2.weight\", \"4.groupnorm_2.bias\", \"4.conv_2.weight\", \"4.conv_2.bias\", \"4.residual_layer.weight\", \"4.residual_layer.bias\", \"7.groupnorm_1.weight\", \"7.groupnorm_1.bias\", \"7.conv_1.weight\", \"7.conv_1.bias\", \"7.groupnorm_2.weight\", \"7.groupnorm_2.bias\", \"7.conv_2.weight\", \"7.conv_2.bias\", \"7.residual_layer.weight\", \"7.residual_layer.bias\", \"8.groupnorm_1.weight\", \"8.groupnorm_1.bias\", \"8.conv_1.weight\", \"8.conv_1.bias\", \"8.groupnorm_2.weight\", \"8.groupnorm_2.bias\", \"8.conv_2.weight\", \"8.conv_2.bias\", \"9.weight\", \"9.bias\", \"10.groupnorm_1.weight\", \"10.groupnorm_1.bias\", \"10.conv_1.weight\", \"10.conv_1.bias\", \"10.groupnorm_2.weight\", \"10.groupnorm_2.bias\", \"10.conv_2.weight\", \"10.conv_2.bias\", \"11.groupnorm_1.weight\", \"11.groupnorm_1.bias\", \"11.conv_1.weight\", \"11.conv_1.bias\", \"11.groupnorm_2.weight\", \"11.groupnorm_2.bias\", \"11.conv_2.weight\", \"11.conv_2.bias\". \n\tsize mismatch for 5.groupnorm_1.weight: copying a param with shape torch.Size([256]) from checkpoint, the shape in current model is torch.Size([512]).\n\tsize mismatch for 5.groupnorm_1.bias: copying a param with shape torch.Size([256]) from checkpoint, the shape in current model is torch.Size([512]).\n\tsize mismatch for 5.conv_1.weight: copying a param with shape torch.Size([256, 256, 3, 3]) from checkpoint, the shape in current model is torch.Size([512, 512, 3, 3]).\n\tsize mismatch for 5.conv_1.bias: copying a param with shape torch.Size([256]) from checkpoint, the shape in current model is torch.Size([512]).\n\tsize mismatch for 5.groupnorm_2.weight: copying a param with shape torch.Size([256]) from checkpoint, the shape in current model is torch.Size([512]).\n\tsize mismatch for 5.groupnorm_2.bias: copying a param with shape torch.Size([256]) from checkpoint, the shape in current model is torch.Size([512]).\n\tsize mismatch for 5.conv_2.weight: copying a param with shape torch.Size([256, 256, 3, 3]) from checkpoint, the shape in current model is torch.Size([512, 512, 3, 3]).\n\tsize mismatch for 5.conv_2.bias: copying a param with shape torch.Size([256]) from checkpoint, the shape in current model is torch.Size([512]).\n\tsize mismatch for 6.weight: copying a param with shape torch.Size([256, 256, 3, 3]) from checkpoint, the shape in current model is torch.Size([512, 512, 3, 3]).\n\tsize mismatch for 6.bias: copying a param with shape torch.Size([256]) from checkpoint, the shape in current model is torch.Size([512]).",
     "output_type": "error",
     "traceback": [
      "\u001b[1;31m---------------------------------------------------------------------------\u001b[0m",
      "\u001b[1;31mRuntimeError\u001b[0m                              Traceback (most recent call last)",
      "Cell \u001b[1;32mIn[1], line 21\u001b[0m\n\u001b[0;32m     19\u001b[0m tokenizer \u001b[38;5;241m=\u001b[39m CLIPTokenizer(\u001b[38;5;124m\"\u001b[39m\u001b[38;5;124m../data/tokenizer_vocab.json\u001b[39m\u001b[38;5;124m\"\u001b[39m, merges_file\u001b[38;5;241m=\u001b[39m\u001b[38;5;124m\"\u001b[39m\u001b[38;5;124m../data/tokenizer_merges.txt\u001b[39m\u001b[38;5;124m\"\u001b[39m)\n\u001b[0;32m     20\u001b[0m model_file \u001b[38;5;241m=\u001b[39m \u001b[38;5;124m\"\u001b[39m\u001b[38;5;124m../data/v1-5-pruned-emaonly.ckpt\u001b[39m\u001b[38;5;124m\"\u001b[39m\n\u001b[1;32m---> 21\u001b[0m models \u001b[38;5;241m=\u001b[39m \u001b[43mmodel_loader\u001b[49m\u001b[38;5;241;43m.\u001b[39;49m\u001b[43mpreload_models_from_standard_weights\u001b[49m\u001b[43m(\u001b[49m\u001b[43mmodel_file\u001b[49m\u001b[43m,\u001b[49m\u001b[43m \u001b[49m\u001b[43mDEVICE\u001b[49m\u001b[43m)\u001b[49m\n\u001b[0;32m     23\u001b[0m \u001b[38;5;66;03m## TEXT TO IMAGE\u001b[39;00m\n\u001b[0;32m     24\u001b[0m \n\u001b[0;32m     25\u001b[0m \u001b[38;5;66;03m# prompt = \"A dog with sunglasses, wearing comfy hat, looking at camera, highly detailed, ultra sharp, cinematic, 100mm lens, 8k resolution.\"\u001b[39;00m\n\u001b[0;32m     26\u001b[0m prompt \u001b[38;5;241m=\u001b[39m \u001b[38;5;124m\"\u001b[39m\u001b[38;5;124mThanos as iron man\u001b[39m\u001b[38;5;124m\"\u001b[39m\n",
      "File \u001b[1;32mc:\\Users\\SHIVAM\\Desktop\\Stable-diffusion\\sd\\model_loader.py:12\u001b[0m, in \u001b[0;36mpreload_models_from_standard_weights\u001b[1;34m(ckpt_path, device)\u001b[0m\n\u001b[0;32m      9\u001b[0m state_dict \u001b[38;5;241m=\u001b[39m model_converter\u001b[38;5;241m.\u001b[39mload_from_standard_weights(ckpt_path, device)\n\u001b[0;32m     11\u001b[0m encoder \u001b[38;5;241m=\u001b[39m VAE_Encoder()\u001b[38;5;241m.\u001b[39mto(device)\n\u001b[1;32m---> 12\u001b[0m \u001b[43mencoder\u001b[49m\u001b[38;5;241;43m.\u001b[39;49m\u001b[43mload_state_dict\u001b[49m\u001b[43m(\u001b[49m\u001b[43mstate_dict\u001b[49m\u001b[43m[\u001b[49m\u001b[38;5;124;43m'\u001b[39;49m\u001b[38;5;124;43mencoder\u001b[39;49m\u001b[38;5;124;43m'\u001b[39;49m\u001b[43m]\u001b[49m\u001b[43m,\u001b[49m\u001b[43m \u001b[49m\u001b[43mstrict\u001b[49m\u001b[38;5;241;43m=\u001b[39;49m\u001b[38;5;28;43;01mTrue\u001b[39;49;00m\u001b[43m)\u001b[49m\n\u001b[0;32m     14\u001b[0m decoder \u001b[38;5;241m=\u001b[39m VAE_Decoder()\u001b[38;5;241m.\u001b[39mto(device)\n\u001b[0;32m     15\u001b[0m decoder\u001b[38;5;241m.\u001b[39mload_state_dict(state_dict[\u001b[38;5;124m'\u001b[39m\u001b[38;5;124mdecoder\u001b[39m\u001b[38;5;124m'\u001b[39m], strict\u001b[38;5;241m=\u001b[39m\u001b[38;5;28;01mTrue\u001b[39;00m)\n",
      "File \u001b[1;32mc:\\Users\\SHIVAM\\Chat-Bot\\Lib\\site-packages\\torch\\nn\\modules\\module.py:2189\u001b[0m, in \u001b[0;36mModule.load_state_dict\u001b[1;34m(self, state_dict, strict, assign)\u001b[0m\n\u001b[0;32m   2184\u001b[0m         error_msgs\u001b[38;5;241m.\u001b[39minsert(\n\u001b[0;32m   2185\u001b[0m             \u001b[38;5;241m0\u001b[39m, \u001b[38;5;124m'\u001b[39m\u001b[38;5;124mMissing key(s) in state_dict: \u001b[39m\u001b[38;5;132;01m{}\u001b[39;00m\u001b[38;5;124m. \u001b[39m\u001b[38;5;124m'\u001b[39m\u001b[38;5;241m.\u001b[39mformat(\n\u001b[0;32m   2186\u001b[0m                 \u001b[38;5;124m'\u001b[39m\u001b[38;5;124m, \u001b[39m\u001b[38;5;124m'\u001b[39m\u001b[38;5;241m.\u001b[39mjoin(\u001b[38;5;124mf\u001b[39m\u001b[38;5;124m'\u001b[39m\u001b[38;5;124m\"\u001b[39m\u001b[38;5;132;01m{\u001b[39;00mk\u001b[38;5;132;01m}\u001b[39;00m\u001b[38;5;124m\"\u001b[39m\u001b[38;5;124m'\u001b[39m \u001b[38;5;28;01mfor\u001b[39;00m k \u001b[38;5;129;01min\u001b[39;00m missing_keys)))\n\u001b[0;32m   2188\u001b[0m \u001b[38;5;28;01mif\u001b[39;00m \u001b[38;5;28mlen\u001b[39m(error_msgs) \u001b[38;5;241m>\u001b[39m \u001b[38;5;241m0\u001b[39m:\n\u001b[1;32m-> 2189\u001b[0m     \u001b[38;5;28;01mraise\u001b[39;00m \u001b[38;5;167;01mRuntimeError\u001b[39;00m(\u001b[38;5;124m'\u001b[39m\u001b[38;5;124mError(s) in loading state_dict for \u001b[39m\u001b[38;5;132;01m{}\u001b[39;00m\u001b[38;5;124m:\u001b[39m\u001b[38;5;130;01m\\n\u001b[39;00m\u001b[38;5;130;01m\\t\u001b[39;00m\u001b[38;5;132;01m{}\u001b[39;00m\u001b[38;5;124m'\u001b[39m\u001b[38;5;241m.\u001b[39mformat(\n\u001b[0;32m   2190\u001b[0m                        \u001b[38;5;28mself\u001b[39m\u001b[38;5;241m.\u001b[39m\u001b[38;5;18m__class__\u001b[39m\u001b[38;5;241m.\u001b[39m\u001b[38;5;18m__name__\u001b[39m, \u001b[38;5;124m\"\u001b[39m\u001b[38;5;130;01m\\n\u001b[39;00m\u001b[38;5;130;01m\\t\u001b[39;00m\u001b[38;5;124m\"\u001b[39m\u001b[38;5;241m.\u001b[39mjoin(error_msgs)))\n\u001b[0;32m   2191\u001b[0m \u001b[38;5;28;01mreturn\u001b[39;00m _IncompatibleKeys(missing_keys, unexpected_keys)\n",
      "\u001b[1;31mRuntimeError\u001b[0m: Error(s) in loading state_dict for VAE_Encoder:\n\tMissing key(s) in state_dict: \"2.weight\", \"2.bias\", \"3.groupnorm_1.weight\", \"3.groupnorm_1.bias\", \"3.conv_1.weight\", \"3.conv_1.bias\", \"3.groupnorm_2.weight\", \"3.groupnorm_2.bias\", \"3.conv_2.weight\", \"3.conv_2.bias\", \"4.weight\", \"4.bias\", \"7.groupnorm.weight\", \"7.groupnorm.bias\", \"7.attention.in_proj.weight\", \"7.attention.in_proj.bias\", \"7.attention.out_proj.weight\", \"7.attention.out_proj.bias\", \"8.weight\", \"8.bias\", \"10.weight\", \"10.bias\", \"11.weight\", \"11.bias\". \n\tUnexpected key(s) in state_dict: \"12.groupnorm_1.weight\", \"12.groupnorm_1.bias\", \"12.conv_1.weight\", \"12.conv_1.bias\", \"12.groupnorm_2.weight\", \"12.groupnorm_2.bias\", \"12.conv_2.weight\", \"12.conv_2.bias\", \"13.groupnorm.weight\", \"13.groupnorm.bias\", \"13.attention.out_proj.bias\", \"14.groupnorm_1.weight\", \"14.groupnorm_1.bias\", \"14.conv_1.weight\", \"14.conv_1.bias\", \"14.groupnorm_2.weight\", \"14.groupnorm_2.bias\", \"14.conv_2.weight\", \"14.conv_2.bias\", \"15.weight\", \"15.bias\", \"17.weight\", \"17.bias\", \"18.weight\", \"18.bias\", \"13.attention.in_proj.weight\", \"13.attention.in_proj.bias\", \"13.attention.out_proj.weight\", \"2.groupnorm_1.weight\", \"2.groupnorm_1.bias\", \"2.conv_1.weight\", \"2.conv_1.bias\", \"2.groupnorm_2.weight\", \"2.groupnorm_2.bias\", \"2.conv_2.weight\", \"2.conv_2.bias\", \"3.weight\", \"3.bias\", \"4.groupnorm_1.weight\", \"4.groupnorm_1.bias\", \"4.conv_1.weight\", \"4.conv_1.bias\", \"4.groupnorm_2.weight\", \"4.groupnorm_2.bias\", \"4.conv_2.weight\", \"4.conv_2.bias\", \"4.residual_layer.weight\", \"4.residual_layer.bias\", \"7.groupnorm_1.weight\", \"7.groupnorm_1.bias\", \"7.conv_1.weight\", \"7.conv_1.bias\", \"7.groupnorm_2.weight\", \"7.groupnorm_2.bias\", \"7.conv_2.weight\", \"7.conv_2.bias\", \"7.residual_layer.weight\", \"7.residual_layer.bias\", \"8.groupnorm_1.weight\", \"8.groupnorm_1.bias\", \"8.conv_1.weight\", \"8.conv_1.bias\", \"8.groupnorm_2.weight\", \"8.groupnorm_2.bias\", \"8.conv_2.weight\", \"8.conv_2.bias\", \"9.weight\", \"9.bias\", \"10.groupnorm_1.weight\", \"10.groupnorm_1.bias\", \"10.conv_1.weight\", \"10.conv_1.bias\", \"10.groupnorm_2.weight\", \"10.groupnorm_2.bias\", \"10.conv_2.weight\", \"10.conv_2.bias\", \"11.groupnorm_1.weight\", \"11.groupnorm_1.bias\", \"11.conv_1.weight\", \"11.conv_1.bias\", \"11.groupnorm_2.weight\", \"11.groupnorm_2.bias\", \"11.conv_2.weight\", \"11.conv_2.bias\". \n\tsize mismatch for 5.groupnorm_1.weight: copying a param with shape torch.Size([256]) from checkpoint, the shape in current model is torch.Size([512]).\n\tsize mismatch for 5.groupnorm_1.bias: copying a param with shape torch.Size([256]) from checkpoint, the shape in current model is torch.Size([512]).\n\tsize mismatch for 5.conv_1.weight: copying a param with shape torch.Size([256, 256, 3, 3]) from checkpoint, the shape in current model is torch.Size([512, 512, 3, 3]).\n\tsize mismatch for 5.conv_1.bias: copying a param with shape torch.Size([256]) from checkpoint, the shape in current model is torch.Size([512]).\n\tsize mismatch for 5.groupnorm_2.weight: copying a param with shape torch.Size([256]) from checkpoint, the shape in current model is torch.Size([512]).\n\tsize mismatch for 5.groupnorm_2.bias: copying a param with shape torch.Size([256]) from checkpoint, the shape in current model is torch.Size([512]).\n\tsize mismatch for 5.conv_2.weight: copying a param with shape torch.Size([256, 256, 3, 3]) from checkpoint, the shape in current model is torch.Size([512, 512, 3, 3]).\n\tsize mismatch for 5.conv_2.bias: copying a param with shape torch.Size([256]) from checkpoint, the shape in current model is torch.Size([512]).\n\tsize mismatch for 6.weight: copying a param with shape torch.Size([256, 256, 3, 3]) from checkpoint, the shape in current model is torch.Size([512, 512, 3, 3]).\n\tsize mismatch for 6.bias: copying a param with shape torch.Size([256]) from checkpoint, the shape in current model is torch.Size([512])."
     ]
    }
   ],
   "source": [
    "\n",
    "import model_loader\n",
    "import pipeline\n",
    "from PIL import Image\n",
    "from pathlib import Path\n",
    "from transformers import CLIPTokenizer\n",
    "import torch\n",
    "\n",
    "DEVICE = \"cpu\"\n",
    "\n",
    "ALLOW_CUDA = True\n",
    "ALLOW_MPS = False\n",
    "\n",
    "if torch.cuda.is_available() and ALLOW_CUDA:\n",
    "    DEVICE = \"cuda\"\n",
    "elif (torch.has_mps or torch.backends.mps.is_available()) and ALLOW_MPS:\n",
    "    DEVICE = \"mps\"\n",
    "print(f\"Using device: {DEVICE}\")\n",
    "\n",
    "tokenizer = CLIPTokenizer(\"../data/tokenizer_vocab.json\", merges_file=\"../data/tokenizer_merges.txt\")\n",
    "model_file = \"../data/v1-5-pruned-emaonly.ckpt\"\n",
    "models = model_loader.preload_models_from_standard_weights(model_file, DEVICE)\n",
    "\n",
    "## TEXT TO IMAGE\n",
    "\n",
    "# prompt = \"A dog with sunglasses, wearing comfy hat, looking at camera, highly detailed, ultra sharp, cinematic, 100mm lens, 8k resolution.\"\n",
    "prompt = \"Thanos as iron man\"\n",
    "uncond_prompt = \"\"  # Also known as negative prompt\n",
    "do_cfg = True\n",
    "cfg_scale = 8  # min: 1, max: 14\n",
    "\n",
    "## IMAGE TO IMAGE\n",
    "\n",
    "input_image = None\n",
    "# Comment to disable image to image\n",
    "image_path = \"../images/dog.jpg\"\n",
    "# input_image = Image.open(image_path)\n",
    "# Higher values means more noise will be added to the input image, so the result will further from the input image.\n",
    "# Lower values means less noise is added to the input image, so output will be closer to the input image.\n",
    "strength = 0.9\n",
    "\n",
    "## SAMPLER\n",
    "\n",
    "sampler = \"ddpm\"\n",
    "num_inference_steps = 50\n",
    "seed = 42\n",
    "\n",
    "output_image = pipeline.generate(\n",
    "    prompt=prompt,\n",
    "    uncond_prompt=uncond_prompt,\n",
    "    input_image=input_image,\n",
    "    strength=strength,\n",
    "    do_cfg=do_cfg,\n",
    "    cfg_scale=cfg_scale,\n",
    "    sampler_name=sampler,\n",
    "    n_inference_steps=num_inference_steps,\n",
    "    seed=seed,\n",
    "    models=models,\n",
    "    device=DEVICE,\n",
    "    idle_device=\"cpu\",\n",
    "    tokenizer=tokenizer,\n",
    ")\n",
    "\n",
    "# Combine the input image and the output image into a single image.\n",
    "\n",
    "Image.fromarray(output_image)\n"
   ]
  },
  {
   "cell_type": "code",
   "execution_count": null,
   "metadata": {},
   "outputs": [],
   "source": [
    "from ddpm import DDPMSampler\n",
    "import tqdm\n",
    "import torch\n",
    "\n",
    "def get_time_embedding(timestep):\n",
    "    # Shape: (160,)\n",
    "    freqs = torch.pow(10000, -torch.arange(start=0, end=160, dtype=torch.float32) / 160) \n",
    "    # Shape: (1, 160)\n",
    "    x = torch.tensor([timestep], dtype=torch.float32)[:, None] * freqs[None]\n",
    "    # Shape: (1, 160 * 2)\n",
    "    return torch.cat([torch.cos(x), torch.sin(x)], dim=-1)\n",
    "\n",
    "\n",
    "\n",
    "generator = torch.Generator(device=device)\n",
    "sampler = DDPMSampler(generator)\n",
    "timesteps = tqdm.tqdm(sampler.timesteps)\n",
    "for i,timestep in enumerate(timesteps):\n",
    "    time_embedding = get_time_embedding(timestep).to(device)\n"
   ]
  },
  {
   "cell_type": "code",
   "execution_count": 2,
   "metadata": {},
   "outputs": [
    {
     "data": {
      "text/plain": [
       "torch.Size([3, 5])"
      ]
     },
     "execution_count": 2,
     "metadata": {},
     "output_type": "execute_result"
    }
   ],
   "source": [
    "tensor = torch.tensor([[1, 2, 3, 4, 5],\n",
    "                       [6, 7, 8, 9, 10],\n",
    "                       [11, 12, 13, 14, 15]])\n",
    "tensor.shape"
   ]
  },
  {
   "cell_type": "code",
   "execution_count": 5,
   "metadata": {},
   "outputs": [
    {
     "data": {
      "text/plain": [
       "tensor([[[ 1,  2,  3],\n",
       "         [ 4,  5,  6],\n",
       "         [ 7,  8,  9]],\n",
       "\n",
       "        [[10, 11, 12],\n",
       "         [13, 14, 15],\n",
       "         [16, 17, 18]]])"
      ]
     },
     "execution_count": 5,
     "metadata": {},
     "output_type": "execute_result"
    }
   ],
   "source": [
    "torch.arange(1,19).view(2,3,3)"
   ]
  },
  {
   "cell_type": "code",
   "execution_count": null,
   "metadata": {},
   "outputs": [],
   "source": []
  }
 ],
 "metadata": {
  "kernelspec": {
   "display_name": "Chat-Bot",
   "language": "python",
   "name": "python3"
  },
  "language_info": {
   "codemirror_mode": {
    "name": "ipython",
    "version": 3
   },
   "file_extension": ".py",
   "mimetype": "text/x-python",
   "name": "python",
   "nbconvert_exporter": "python",
   "pygments_lexer": "ipython3",
   "version": "3.12.2"
  }
 },
 "nbformat": 4,
 "nbformat_minor": 2
}
